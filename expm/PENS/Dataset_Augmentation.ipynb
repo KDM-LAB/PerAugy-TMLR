{
 "cells": [
  {
   "cell_type": "markdown",
   "id": "179226d9-104f-4357-8080-8dd9d4e9593b",
   "metadata": {},
   "source": [
    "## Load Prepared Dataset `synthetic-original.csv`"
   ]
  },
  {
   "cell_type": "code",
   "execution_count": 1,
   "id": "c6c70055-02ff-49a6-909b-b4eba1d3b494",
   "metadata": {},
   "outputs": [],
   "source": [
    "import pandas as pd\n",
    "synthetic_original_df = pd.read_csv(\"../datasets/synthetic-original.csv\")"
   ]
  },
  {
   "cell_type": "markdown",
   "id": "fc456460-b246-465c-9f70-76ef86b3f35b",
   "metadata": {},
   "source": [
    "## Applying the Augmentation Strategy to `synthetic-original.csv`"
   ]
  },
  {
   "cell_type": "code",
   "execution_count": 7,
   "id": "7c6da30b-cb58-478b-841b-de04bdb10562",
   "metadata": {},
   "outputs": [],
   "source": [
    "# test\n",
    "synthetic_original_df = synthetic_original_df[0:200]"
   ]
  },
  {
   "cell_type": "code",
   "execution_count": 8,
   "id": "b5dd6ce3-ca08-4c5f-bef4-d87e8f7ffda0",
   "metadata": {},
   "outputs": [
    {
     "data": {
      "text/html": [
       "<div>\n",
       "<style scoped>\n",
       "    .dataframe tbody tr th:only-of-type {\n",
       "        vertical-align: middle;\n",
       "    }\n",
       "\n",
       "    .dataframe tbody tr th {\n",
       "        vertical-align: top;\n",
       "    }\n",
       "\n",
       "    .dataframe thead th {\n",
       "        text-align: right;\n",
       "    }\n",
       "</style>\n",
       "<table border=\"1\" class=\"dataframe\">\n",
       "  <thead>\n",
       "    <tr style=\"text-align: right;\">\n",
       "      <th></th>\n",
       "      <th>UserID</th>\n",
       "      <th>Docs</th>\n",
       "      <th>Action</th>\n",
       "      <th>Summaries</th>\n",
       "    </tr>\n",
       "  </thead>\n",
       "  <tbody>\n",
       "    <tr>\n",
       "      <th>0</th>\n",
       "      <td>U335175</td>\n",
       "      <td>[N70300, N66205, N68668, N113976, N61932, N724...</td>\n",
       "      <td>[click, skip, skip, skip, skip, skip, gen_summ...</td>\n",
       "      <td>13</td>\n",
       "    </tr>\n",
       "    <tr>\n",
       "      <th>1</th>\n",
       "      <td>U146053</td>\n",
       "      <td>[N37826, N117079, N55055, N24616, N74267, N555...</td>\n",
       "      <td>[click, skip, click, click, skip, click, click...</td>\n",
       "      <td>12</td>\n",
       "    </tr>\n",
       "    <tr>\n",
       "      <th>2</th>\n",
       "      <td>U158889</td>\n",
       "      <td>[N14064, N43380, N102856, N29737, N105956, N96...</td>\n",
       "      <td>[click, click, click, click, click, click, cli...</td>\n",
       "      <td>3</td>\n",
       "    </tr>\n",
       "    <tr>\n",
       "      <th>3</th>\n",
       "      <td>U22232</td>\n",
       "      <td>[N80830, N91571, N122527, S7, N70758, N85067, ...</td>\n",
       "      <td>[click, skip, gen_summ, summ_gen, click, skip,...</td>\n",
       "      <td>6</td>\n",
       "    </tr>\n",
       "    <tr>\n",
       "      <th>4</th>\n",
       "      <td>U32515</td>\n",
       "      <td>['N55509', 'N111634', 'N15992', 'N78883', 'N27...</td>\n",
       "      <td>['click', 'skip', 'click', 'click', 'click', '...</td>\n",
       "      <td>1</td>\n",
       "    </tr>\n",
       "    <tr>\n",
       "      <th>...</th>\n",
       "      <td>...</td>\n",
       "      <td>...</td>\n",
       "      <td>...</td>\n",
       "      <td>...</td>\n",
       "    </tr>\n",
       "    <tr>\n",
       "      <th>195</th>\n",
       "      <td>U217702</td>\n",
       "      <td>['N118459', 'N94166', 'N50928', 'N66607', 'N88...</td>\n",
       "      <td>['click', 'click', 'click', 'click', 'skip', '...</td>\n",
       "      <td>5</td>\n",
       "    </tr>\n",
       "    <tr>\n",
       "      <th>196</th>\n",
       "      <td>U314295</td>\n",
       "      <td>['N61448', 'N114190', 'N91695', 'N90094', 'N52...</td>\n",
       "      <td>['click', 'click', 'skip', 'skip', 'click', 'c...</td>\n",
       "      <td>4</td>\n",
       "    </tr>\n",
       "    <tr>\n",
       "      <th>197</th>\n",
       "      <td>U361310</td>\n",
       "      <td>['N14872', 'N83830', 'N50693', 'N28859', 'N780...</td>\n",
       "      <td>['skip', 'skip', 'skip', 'click', 'click', 'cl...</td>\n",
       "      <td>0</td>\n",
       "    </tr>\n",
       "    <tr>\n",
       "      <th>198</th>\n",
       "      <td>U197363</td>\n",
       "      <td>['N94432', 'N58081', 'N112057', 'N37762', 'S37...</td>\n",
       "      <td>['click', 'click', 'click', 'gen_summ', 'summ_...</td>\n",
       "      <td>4</td>\n",
       "    </tr>\n",
       "    <tr>\n",
       "      <th>199</th>\n",
       "      <td>U132865</td>\n",
       "      <td>['N39995', 'N35880', 'N26275', 'N55076', 'N158...</td>\n",
       "      <td>['click', 'click', 'click', 'click', 'click', ...</td>\n",
       "      <td>0</td>\n",
       "    </tr>\n",
       "  </tbody>\n",
       "</table>\n",
       "<p>200 rows × 4 columns</p>\n",
       "</div>"
      ],
      "text/plain": [
       "      UserID                                               Docs  \\\n",
       "0    U335175  [N70300, N66205, N68668, N113976, N61932, N724...   \n",
       "1    U146053  [N37826, N117079, N55055, N24616, N74267, N555...   \n",
       "2    U158889  [N14064, N43380, N102856, N29737, N105956, N96...   \n",
       "3     U22232  [N80830, N91571, N122527, S7, N70758, N85067, ...   \n",
       "4     U32515  ['N55509', 'N111634', 'N15992', 'N78883', 'N27...   \n",
       "..       ...                                                ...   \n",
       "195  U217702  ['N118459', 'N94166', 'N50928', 'N66607', 'N88...   \n",
       "196  U314295  ['N61448', 'N114190', 'N91695', 'N90094', 'N52...   \n",
       "197  U361310  ['N14872', 'N83830', 'N50693', 'N28859', 'N780...   \n",
       "198  U197363  ['N94432', 'N58081', 'N112057', 'N37762', 'S37...   \n",
       "199  U132865  ['N39995', 'N35880', 'N26275', 'N55076', 'N158...   \n",
       "\n",
       "                                                Action  Summaries  \n",
       "0    [click, skip, skip, skip, skip, skip, gen_summ...         13  \n",
       "1    [click, skip, click, click, skip, click, click...         12  \n",
       "2    [click, click, click, click, click, click, cli...          3  \n",
       "3    [click, skip, gen_summ, summ_gen, click, skip,...          6  \n",
       "4    ['click', 'skip', 'click', 'click', 'click', '...          1  \n",
       "..                                                 ...        ...  \n",
       "195  ['click', 'click', 'click', 'click', 'skip', '...          5  \n",
       "196  ['click', 'click', 'skip', 'skip', 'click', 'c...          4  \n",
       "197  ['skip', 'skip', 'skip', 'click', 'click', 'cl...          0  \n",
       "198  ['click', 'click', 'click', 'gen_summ', 'summ_...          4  \n",
       "199  ['click', 'click', 'click', 'click', 'click', ...          0  \n",
       "\n",
       "[200 rows x 4 columns]"
      ]
     },
     "execution_count": 8,
     "metadata": {},
     "output_type": "execute_result"
    }
   ],
   "source": [
    "synthetic_original_df"
   ]
  },
  {
   "cell_type": "code",
   "execution_count": 9,
   "id": "db3758d0-e054-41ba-9e93-e213a9cda733",
   "metadata": {},
   "outputs": [
    {
     "name": "stderr",
     "output_type": "stream",
     "text": [
      "100%|████████████████████████████████████████████████████████████████████████████████| 200/200 [00:04<00:00, 43.47it/s]\n",
      "100%|████████████████████████████████████████████████████████████████████████████████| 200/200 [00:04<00:00, 46.83it/s]\n",
      "100%|████████████████████████████████████████████████████████████████████████████████| 200/200 [00:04<00:00, 40.93it/s]\n"
     ]
    }
   ],
   "source": [
    "import pandas as pd\n",
    "import numpy as np\n",
    "from tqdm import tqdm\n",
    "import ast\n",
    "\n",
    "synthetic_init_df = synthetic_original_df\n",
    "num_users = 5\n",
    "num_users_var = 25\n",
    "\n",
    "gap = 5\n",
    "gap_var = 5\n",
    "\n",
    "impute_gap = 5\n",
    "impute_gap_var = 5\n",
    "\n",
    "length = 100\n",
    "length_var = 200\n",
    "\n",
    "iterations = 3\n",
    "def safe_eval(val):\n",
    "    if isinstance(val, str):\n",
    "        return ast.literal_eval(val)\n",
    "    return val\n",
    "\n",
    "for _ in range(iterations):\n",
    "    for i, row in tqdm(synthetic_init_df.iterrows(), total=synthetic_init_df.shape[0]):\n",
    "        sample_df = synthetic_init_df.sample(n = num_users + np.random.randint(0, num_users_var + 1))\n",
    "        \n",
    "        for si, srow in sample_df.iterrows():\n",
    "            gap = gap + np.random.randint(0, gap_var + 1)\n",
    "            length = length + np.random.randint(0, length_var + 1)\n",
    "            impute_seq_docs = safe_eval(srow['Docs'])[gap:gap + length]\n",
    "            impute_seq_acts = safe_eval(srow['Action'])[gap:gap + length]\n",
    "            \n",
    "            if 'summ_gen' in impute_seq_acts:\n",
    "                impute_gap = impute_gap + np.random.randint(0, impute_gap_var + 1)\n",
    "                replace_seq_docs = safe_eval(row['Docs'])[:impute_gap] + impute_seq_docs + safe_eval(row['Docs'])[impute_gap:]\n",
    "                replace_seq_acts = safe_eval(row['Action'])[:impute_gap] + impute_seq_acts + safe_eval(row['Action'])[impute_gap:]\n",
    "                synthetic_init_df.at[i, 'Docs'] = replace_seq_docs\n",
    "                synthetic_init_df.at[i, 'Action'] = replace_seq_acts\n",
    "                assert len(synthetic_init_df.at[i, 'Docs']) == len(synthetic_init_df.at[i, 'Action'])\n",
    "                synthetic_init_df.at[i, 'Summaries'] = replace_seq_acts.count('summ_gen')\n",
    "\n",
    "# synthetic_init_df.to_csv('./datasets/synthetic-preprocessed.csv', index=False)\n"
   ]
  },
  {
   "cell_type": "code",
   "execution_count": 10,
   "id": "5fed810f-f8d5-44dd-b15e-e1245ed5fa77",
   "metadata": {},
   "outputs": [
    {
     "data": {
      "text/html": [
       "<div>\n",
       "<style scoped>\n",
       "    .dataframe tbody tr th:only-of-type {\n",
       "        vertical-align: middle;\n",
       "    }\n",
       "\n",
       "    .dataframe tbody tr th {\n",
       "        vertical-align: top;\n",
       "    }\n",
       "\n",
       "    .dataframe thead th {\n",
       "        text-align: right;\n",
       "    }\n",
       "</style>\n",
       "<table border=\"1\" class=\"dataframe\">\n",
       "  <thead>\n",
       "    <tr style=\"text-align: right;\">\n",
       "      <th></th>\n",
       "      <th>UserID</th>\n",
       "      <th>Docs</th>\n",
       "      <th>Action</th>\n",
       "      <th>Summaries</th>\n",
       "    </tr>\n",
       "  </thead>\n",
       "  <tbody>\n",
       "    <tr>\n",
       "      <th>0</th>\n",
       "      <td>U335175</td>\n",
       "      <td>[S2, N122297, N90902, N103034, N32119, N39558,...</td>\n",
       "      <td>[summ_gen, click, skip, click, click, click, s...</td>\n",
       "      <td>16</td>\n",
       "    </tr>\n",
       "    <tr>\n",
       "      <th>1</th>\n",
       "      <td>U146053</td>\n",
       "      <td>[N62341, N26218, N118909, N29409, N30532, N781...</td>\n",
       "      <td>[click, skip, click, click, click, click, clic...</td>\n",
       "      <td>13</td>\n",
       "    </tr>\n",
       "    <tr>\n",
       "      <th>2</th>\n",
       "      <td>U158889</td>\n",
       "      <td>[S125, N50846, N102360, N78899, N28779, N49411...</td>\n",
       "      <td>[summ_gen, click, click, click, click, skip, s...</td>\n",
       "      <td>4</td>\n",
       "    </tr>\n",
       "    <tr>\n",
       "      <th>3</th>\n",
       "      <td>U22232</td>\n",
       "      <td>[N30442, N71915, N70388, N20440, N24548, N1212...</td>\n",
       "      <td>[click, click, click, click, click, gen_summ, ...</td>\n",
       "      <td>10</td>\n",
       "    </tr>\n",
       "    <tr>\n",
       "      <th>4</th>\n",
       "      <td>U32515</td>\n",
       "      <td>['N55509', 'N111634', 'N15992', 'N78883', 'N27...</td>\n",
       "      <td>['click', 'skip', 'click', 'click', 'click', '...</td>\n",
       "      <td>1</td>\n",
       "    </tr>\n",
       "    <tr>\n",
       "      <th>...</th>\n",
       "      <td>...</td>\n",
       "      <td>...</td>\n",
       "      <td>...</td>\n",
       "      <td>...</td>\n",
       "    </tr>\n",
       "    <tr>\n",
       "      <th>195</th>\n",
       "      <td>U217702</td>\n",
       "      <td>['N118459', 'N94166', 'N50928', 'N66607', 'N88...</td>\n",
       "      <td>['click', 'click', 'click', 'click', 'skip', '...</td>\n",
       "      <td>5</td>\n",
       "    </tr>\n",
       "    <tr>\n",
       "      <th>196</th>\n",
       "      <td>U314295</td>\n",
       "      <td>['N61448', 'N114190', 'N91695', 'N90094', 'N52...</td>\n",
       "      <td>['click', 'click', 'skip', 'skip', 'click', 'c...</td>\n",
       "      <td>4</td>\n",
       "    </tr>\n",
       "    <tr>\n",
       "      <th>197</th>\n",
       "      <td>U361310</td>\n",
       "      <td>['N14872', 'N83830', 'N50693', 'N28859', 'N780...</td>\n",
       "      <td>['skip', 'skip', 'skip', 'click', 'click', 'cl...</td>\n",
       "      <td>0</td>\n",
       "    </tr>\n",
       "    <tr>\n",
       "      <th>198</th>\n",
       "      <td>U197363</td>\n",
       "      <td>['N94432', 'N58081', 'N112057', 'N37762', 'S37...</td>\n",
       "      <td>['click', 'click', 'click', 'gen_summ', 'summ_...</td>\n",
       "      <td>4</td>\n",
       "    </tr>\n",
       "    <tr>\n",
       "      <th>199</th>\n",
       "      <td>U132865</td>\n",
       "      <td>['N39995', 'N35880', 'N26275', 'N55076', 'N158...</td>\n",
       "      <td>['click', 'click', 'click', 'click', 'click', ...</td>\n",
       "      <td>0</td>\n",
       "    </tr>\n",
       "  </tbody>\n",
       "</table>\n",
       "<p>200 rows × 4 columns</p>\n",
       "</div>"
      ],
      "text/plain": [
       "      UserID                                               Docs  \\\n",
       "0    U335175  [S2, N122297, N90902, N103034, N32119, N39558,...   \n",
       "1    U146053  [N62341, N26218, N118909, N29409, N30532, N781...   \n",
       "2    U158889  [S125, N50846, N102360, N78899, N28779, N49411...   \n",
       "3     U22232  [N30442, N71915, N70388, N20440, N24548, N1212...   \n",
       "4     U32515  ['N55509', 'N111634', 'N15992', 'N78883', 'N27...   \n",
       "..       ...                                                ...   \n",
       "195  U217702  ['N118459', 'N94166', 'N50928', 'N66607', 'N88...   \n",
       "196  U314295  ['N61448', 'N114190', 'N91695', 'N90094', 'N52...   \n",
       "197  U361310  ['N14872', 'N83830', 'N50693', 'N28859', 'N780...   \n",
       "198  U197363  ['N94432', 'N58081', 'N112057', 'N37762', 'S37...   \n",
       "199  U132865  ['N39995', 'N35880', 'N26275', 'N55076', 'N158...   \n",
       "\n",
       "                                                Action  Summaries  \n",
       "0    [summ_gen, click, skip, click, click, click, s...         16  \n",
       "1    [click, skip, click, click, click, click, clic...         13  \n",
       "2    [summ_gen, click, click, click, click, skip, s...          4  \n",
       "3    [click, click, click, click, click, gen_summ, ...         10  \n",
       "4    ['click', 'skip', 'click', 'click', 'click', '...          1  \n",
       "..                                                 ...        ...  \n",
       "195  ['click', 'click', 'click', 'click', 'skip', '...          5  \n",
       "196  ['click', 'click', 'skip', 'skip', 'click', 'c...          4  \n",
       "197  ['skip', 'skip', 'skip', 'click', 'click', 'cl...          0  \n",
       "198  ['click', 'click', 'click', 'gen_summ', 'summ_...          4  \n",
       "199  ['click', 'click', 'click', 'click', 'click', ...          0  \n",
       "\n",
       "[200 rows x 4 columns]"
      ]
     },
     "execution_count": 10,
     "metadata": {},
     "output_type": "execute_result"
    }
   ],
   "source": [
    "synthetic_init_df"
   ]
  },
  {
   "cell_type": "code",
   "execution_count": 6,
   "id": "fabd4865-7117-47f5-8f23-a535b401fa4b",
   "metadata": {},
   "outputs": [
    {
     "data": {
      "text/plain": [
       "7"
      ]
     },
     "execution_count": 6,
     "metadata": {},
     "output_type": "execute_result"
    }
   ],
   "source": [
    "synthetic_original_df.iloc[3]['Action'].count('summ_gen')"
   ]
  },
  {
   "cell_type": "code",
   "execution_count": 7,
   "id": "e3b0659d-df28-4405-8634-4c54b0417fb1",
   "metadata": {},
   "outputs": [
    {
     "ename": "SyntaxError",
     "evalue": "invalid syntax (218130742.py, line 1)",
     "output_type": "error",
     "traceback": [
      "\u001b[1;36m  Cell \u001b[1;32mIn[7], line 1\u001b[1;36m\u001b[0m\n\u001b[1;33m    python process_dataset.py path/to/input.csv path/to/output.csv --num-users 5 --num-users-var 25 --gap 2 --gap-var 5 --impute-gap 2 --impute-gap-var 5 --length 100 --length-var 200 --iterations 3\u001b[0m\n\u001b[1;37m           ^\u001b[0m\n\u001b[1;31mSyntaxError\u001b[0m\u001b[1;31m:\u001b[0m invalid syntax\n"
     ]
    }
   ],
   "source": [
    "python process_dataset.py path/to/input.csv path/to/output.csv --num-users 5 --num-users-var 25 --gap 2 --gap-var 5 --impute-gap 2 --impute-gap-var 5 --length 100 --length-var 200 --iterations 3\n"
   ]
  },
  {
   "cell_type": "code",
   "execution_count": null,
   "id": "c491243d-0978-4ab2-928b-6dbf14f1c86e",
   "metadata": {},
   "outputs": [],
   "source": []
  },
  {
   "cell_type": "code",
   "execution_count": 8,
   "id": "c28b5175-9af4-4d50-a8ff-0fa65ef4296c",
   "metadata": {},
   "outputs": [
    {
     "name": "stdout",
     "output_type": "stream",
     "text": [
      "                                                                               \n",
      " Usage: data_manager.py augment-synthetic-data [OPTIONS] INPUT_CSV OUTPUT_CSV  \n",
      "                                                                               \n",
      " Process a synthetic dataset by modifying and updating rows based on given     \n",
      " parameters.                                                                   \n",
      " Args:     input_csv (str): Path to the input CSV file.     output_csv (str):  \n",
      " Path to save the processed CSV file.     num_users (int, optional): Base      \n",
      " number of users to sample. Defaults to 5.     num_users_var (int, optional):  \n",
      " Variability in the number of users to sample. Defaults to 25.     gap (int,   \n",
      " optional): Initial gap value. Defaults to 2.     gap_var (int, optional):     \n",
      " Variability in the gap value. Defaults to 5.     impute_gap (int, optional):  \n",
      " Initial impute gap value. Defaults to 2.     impute_gap_var (int, optional):  \n",
      " Variability in the impute gap value. Defaults to 5.     length (int,          \n",
      " optional): Base length of sequences to impute. Defaults to 100.               \n",
      " length_var (int, optional): Variability in the length of sequences to impute. \n",
      " Defaults to 200.     iterations (int, optional): Number of iterations to      \n",
      " process the dataset. Defaults to 3.                                           \n",
      " Returns:     None                                                             \n",
      "                                                                               \n",
      "+- Arguments -----------------------------------------------------------------+\n",
      "| *    input_csv       TEXT  [default: None] [required]                       |\n",
      "| *    output_csv      TEXT  [default: None] [required]                       |\n",
      "+-----------------------------------------------------------------------------+\n",
      "+- Options -------------------------------------------------------------------+\n",
      "| --num-users             INTEGER  [default: 5]                               |\n",
      "| --num-users-var         INTEGER  [default: 25]                              |\n",
      "| --gap                   INTEGER  [default: 2]                               |\n",
      "| --gap-var               INTEGER  [default: 5]                               |\n",
      "| --impute-gap            INTEGER  [default: 2]                               |\n",
      "| --impute-gap-var        INTEGER  [default: 5]                               |\n",
      "| --length                INTEGER  [default: 100]                             |\n",
      "| --length-var            INTEGER  [default: 200]                             |\n",
      "| --iterations            INTEGER  [default: 3]                               |\n",
      "| --help                           Show this message and exit.                |\n",
      "+-----------------------------------------------------------------------------+\n",
      "\n"
     ]
    }
   ],
   "source": [
    "!python \"../src/data_manager.py\"  augment-synthetic-data --help"
   ]
  },
  {
   "cell_type": "code",
   "execution_count": 1,
   "id": "d03dc952-6539-49df-8da6-7e64512033c1",
   "metadata": {},
   "outputs": [
    {
     "name": "stdout",
     "output_type": "stream",
     "text": [
      "^C\n"
     ]
    }
   ],
   "source": [
    "!python \"../src/data_manager.py\" augment-synthetic-data  \"../datasets/synthetic-original.csv\" \"../datasets/synthetic-original-augmented.csv\" --num-users 5 --num-users-var 5 --gap 2 --gap-var 5 --impute-gap 2 --impute-gap-var 5 --length 25 --length-var 100 --iterations 1"
   ]
  },
  {
   "cell_type": "code",
   "execution_count": 13,
   "id": "856ecb86-6ac9-491f-8270-9dec8cd48685",
   "metadata": {},
   "outputs": [],
   "source": [
    "l = [1, 2,2,2,2,2,2,22,2,2,2, 5]\n",
    "i = [3,3,3,3,3]\n",
    "\n",
    "c = l[:5] + i + l[5:]"
   ]
  },
  {
   "cell_type": "code",
   "execution_count": 14,
   "id": "f7fb4b2f-a47b-4402-81b6-4f76e8763cb0",
   "metadata": {},
   "outputs": [
    {
     "data": {
      "text/plain": [
       "[1, 2, 2, 2, 2, 3, 3, 3, 3, 3, 2, 2, 22, 2, 2, 2, 5]"
      ]
     },
     "execution_count": 14,
     "metadata": {},
     "output_type": "execute_result"
    }
   ],
   "source": [
    "c"
   ]
  },
  {
   "cell_type": "code",
   "execution_count": null,
   "id": "a2034ab1-acf7-4b41-9b42-83e177a4a1c2",
   "metadata": {},
   "outputs": [],
   "source": []
  }
 ],
 "metadata": {
  "kernelspec": {
   "display_name": "Python 3 (ipykernel)",
   "language": "python",
   "name": "python3"
  },
  "language_info": {
   "codemirror_mode": {
    "name": "ipython",
    "version": 3
   },
   "file_extension": ".py",
   "mimetype": "text/x-python",
   "name": "python",
   "nbconvert_exporter": "python",
   "pygments_lexer": "ipython3",
   "version": "3.11.6"
  }
 },
 "nbformat": 4,
 "nbformat_minor": 5
}
